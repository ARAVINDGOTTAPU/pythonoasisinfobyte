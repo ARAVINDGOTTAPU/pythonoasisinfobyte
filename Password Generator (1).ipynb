{
 "cells": [
  {
   "cell_type": "code",
   "execution_count": 3,
   "id": "81e73cef-5f27-40fb-a799-c6ef8d96dff8",
   "metadata": {},
   "outputs": [
    {
     "name": "stdout",
     "output_type": "stream",
     "text": [
      "Welcome to the Password Generator!\n"
     ]
    },
    {
     "name": "stdin",
     "output_type": "stream",
     "text": [
      "Enter the desired length of the password:  8\n",
      "Include letters (y/n)?  y\n",
      "Include numbers (y/n)?  n\n",
      "Include symbols (y/n)?  y\n"
     ]
    },
    {
     "name": "stdout",
     "output_type": "stream",
     "text": [
      "Generated Password: BWyIP?\"S\n"
     ]
    }
   ],
   "source": [
    "import random\n",
    "import string\n",
    "\n",
    "def generate_password(length, use_letters, use_numbers, use_symbols):\n",
    "    characters = \"\"\n",
    "    if use_letters:\n",
    "        characters += string.ascii_letters\n",
    "    if use_numbers:\n",
    "        characters += string.digits\n",
    "    if use_symbols:\n",
    "        characters += string.punctuation\n",
    "\n",
    "    if not characters:\n",
    "        return \"No character types selected. Please try again.\"\n",
    "\n",
    "    password = \"\"\n",
    "    for _ in range(length):\n",
    "        password += random.choice(characters)\n",
    "\n",
    "    return password\n",
    "\n",
    "def main():\n",
    "    print(\"Welcome to the Password Generator!\")\n",
    "\n",
    "    length = int(input(\"Enter the desired length of the password: \"))\n",
    "    use_letters = input(\"Include letters (y/n)? \").lower() == 'y'\n",
    "    use_numbers = input(\"Include numbers (y/n)? \").lower() == 'y'\n",
    "    use_symbols = input(\"Include symbols (y/n)? \").lower() == 'y'\n",
    "\n",
    "    password = generate_password(length, use_letters, use_numbers, use_symbols)\n",
    "\n",
    "    print(\"Generated Password:\", password)\n",
    "\n",
    "if __name__ == \"__main__\":\n",
    "    main()\n"
   ]
  },
  {
   "cell_type": "code",
   "execution_count": null,
   "id": "14278070-1387-4aa0-ab72-3e04ac7f1f42",
   "metadata": {},
   "outputs": [],
   "source": []
  }
 ],
 "metadata": {
  "kernelspec": {
   "display_name": "Python 3 (ipykernel)",
   "language": "python",
   "name": "python3"
  },
  "language_info": {
   "codemirror_mode": {
    "name": "ipython",
    "version": 3
   },
   "file_extension": ".py",
   "mimetype": "text/x-python",
   "name": "python",
   "nbconvert_exporter": "python",
   "pygments_lexer": "ipython3",
   "version": "3.11.7"
  }
 },
 "nbformat": 4,
 "nbformat_minor": 5
}
