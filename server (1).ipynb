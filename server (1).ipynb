{
 "cells": [
  {
   "cell_type": "code",
   "execution_count": null,
   "id": "f4adfa3e-9dbb-4242-8311-a419c586f32c",
   "metadata": {},
   "outputs": [
    {
     "name": "stdout",
     "output_type": "stream",
     "text": [
      "Server listening on localhost:5556\n",
      "aravind connected from ('127.0.0.1', 51875)\n"
     ]
    }
   ],
   "source": [
    "import socket\n",
    "import threading\n",
    "\n",
    "def handle_client(client_socket, address, clients):\n",
    "    try:\n",
    "        # Get the username from the client\n",
    "        username = client_socket.recv(1024).decode('utf-8').strip()\n",
    "        print(f\"{username} connected from {address}\")\n",
    "\n",
    "        # Send a welcome message to the client\n",
    "        welcome_message = f\"Welcome {username}! {len(clients) + 1} people online.\"\n",
    "        client_socket.sendall(welcome_message.encode('utf-8'))\n",
    "\n",
    "        # Broadcast the arrival of a new user to all connected clients\n",
    "        broadcast_to_clients(client_socket, f\"{username} joined the chat.\", clients)\n",
    "\n",
    "        while True:\n",
    "            message = client_socket.recv(1024).decode('utf-8')\n",
    "            if not message:\n",
    "                break\n",
    "\n",
    "            broadcast_message = f\"{message}\"\n",
    "            print(broadcast_message)\n",
    "\n",
    "            broadcast_to_clients(client_socket, broadcast_message, clients)\n",
    "    except (socket.error, KeyboardInterrupt):\n",
    "        pass\n",
    "    finally:\n",
    "        remove_client(client_socket, clients)\n",
    "        # Broadcast the departure of a user to all connected clients\n",
    "        broadcast_to_clients(client_socket, f\"{username} left the chat.\", clients)\n",
    "\n",
    "def broadcast_to_clients(sender_socket, message, clients):\n",
    "    for client in clients:\n",
    "        if client != sender_socket:\n",
    "            try:\n",
    "                client.sendall(message.encode('utf-8'))\n",
    "            except socket.error:\n",
    "                remove_client(client, clients)\n",
    "\n",
    "def remove_client(client_socket, clients):\n",
    "    if client_socket in clients:\n",
    "        clients.remove(client_socket)\n",
    "        client_socket.close()\n",
    "\n",
    "def main():\n",
    "    host = 'localhost'\n",
    "    port = 5556\n",
    "    server_socket = socket.socket(socket.AF_INET, socket.SOCK_STREAM)\n",
    "    server_socket.bind((host, port))\n",
    "    server_socket.listen()\n",
    "\n",
    "    print(f\"Server listening on {host}:{port}\")\n",
    "\n",
    "    clients = []\n",
    "\n",
    "    try:\n",
    "        while len(clients) < 2:  # Limit the number of clients to 2\n",
    "            client_socket, address = server_socket.accept()\n",
    "\n",
    "            # Handle the client in a new thread\n",
    "            client_handler = threading.Thread(target=handle_client, args=(client_socket, address, clients))\n",
    "            client_handler.start()\n",
    "            clients.append(client_socket)\n",
    "\n",
    "        print(\"Maximum number of clients reached. No more connections will be accepted.\")\n",
    "\n",
    "    except KeyboardInterrupt:\n",
    "        pass\n",
    "    finally:\n",
    "        server_socket.close()\n",
    "\n",
    "if __name__ == \"__main__\":\n",
    "    main()\n"
   ]
  },
  {
   "cell_type": "code",
   "execution_count": null,
   "id": "662a1747-7079-447b-b0f4-114337d8055b",
   "metadata": {},
   "outputs": [],
   "source": []
  }
 ],
 "metadata": {
  "kernelspec": {
   "display_name": "Python 3 (ipykernel)",
   "language": "python",
   "name": "python3"
  },
  "language_info": {
   "codemirror_mode": {
    "name": "ipython",
    "version": 3
   },
   "file_extension": ".py",
   "mimetype": "text/x-python",
   "name": "python",
   "nbconvert_exporter": "python",
   "pygments_lexer": "ipython3",
   "version": "3.11.7"
  }
 },
 "nbformat": 4,
 "nbformat_minor": 5
}
