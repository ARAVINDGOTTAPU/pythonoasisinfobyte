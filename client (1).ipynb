{
 "cells": [
  {
   "cell_type": "code",
   "execution_count": null,
   "id": "c705e6b3-61a6-4e01-a56a-bf4bd27a4d76",
   "metadata": {},
   "outputs": [
    {
     "name": "stdin",
     "output_type": "stream",
     "text": [
      "Enter your username:  aravind\n"
     ]
    },
    {
     "name": "stdout",
     "output_type": "stream",
     "text": [
      "Welcome aravind! 2 people online.\n"
     ]
    }
   ],
   "source": [
    "import socket\n",
    "import threading\n",
    "\n",
    "def receive_messages(client_socket, username, should_prompt):\n",
    "    try:\n",
    "        while True:\n",
    "            message = client_socket.recv(1024).decode('utf-8')\n",
    "            if ': ' in message:\n",
    "                sender_username, received_message = message.split(': ', 1)\n",
    "                if sender_username != username:\n",
    "                    print(f\"Received message: {sender_username}: {received_message}\")\n",
    "                else:\n",
    "                    print(f\"Received message: {received_message}\")\n",
    "            else:\n",
    "                print(f\"Received message: {message}\")\n",
    "                \n",
    "            print(\"Enter your message:\", end=\" \", flush=True)  # Prompt for user message\n",
    "            should_prompt.set()  # Set the flag to prompt for input\n",
    "    except (socket.error, KeyboardInterrupt):\n",
    "        pass\n",
    "\n",
    "\n",
    "def send_messages(client_socket, username, should_prompt):\n",
    "    try:\n",
    "        while True:\n",
    "            if should_prompt.is_set():\n",
    "                user_message = input()\n",
    "                full_message = f\"{username}: {user_message}\"\n",
    "                client_socket.sendall(full_message.encode('utf-8'))\n",
    "                should_prompt.clear()  # Clear the flag after sending the message\n",
    "    except (socket.error, KeyboardInterrupt):\n",
    "        pass\n",
    "\n",
    "\n",
    "\n",
    "\n",
    "def main():\n",
    "    host = 'localhost'\n",
    "    port = 5556\n",
    "\n",
    "    client_socket = socket.socket(socket.AF_INET, socket.SOCK_STREAM)\n",
    "\n",
    "    # Get the username from the user if not provided\n",
    "    username = input(\"Enter your username: \").strip() or \"DefaultUser\"\n",
    "\n",
    "    try:\n",
    "        # Connect to the chat server\n",
    "        client_socket.connect((host, port))\n",
    "\n",
    "        # Send the username to the server\n",
    "        client_socket.sendall(username.encode('utf-8'))\n",
    "\n",
    "        # Receive and print the welcome message from the server\n",
    "        welcome_message = client_socket.recv(1024).decode('utf-8')\n",
    "        print(welcome_message)\n",
    "\n",
    "        # Create a threading.Event object\n",
    "        should_prompt = threading.Event()\n",
    "\n",
    "        # Create two threads for sending and receiving messages\n",
    "        receive_thread = threading.Thread(target=receive_messages, args=(client_socket, username, should_prompt))\n",
    "        send_thread = threading.Thread(target=send_messages, args=(client_socket, username, should_prompt))\n",
    "\n",
    "        # Start the threads\n",
    "        receive_thread.start()\n",
    "        send_thread.start()\n",
    "\n",
    "        # Wait for the threads to finish\n",
    "        receive_thread.join()\n",
    "        send_thread.join()\n",
    "\n",
    "    except socket.error as e:\n",
    "        print(f\"Socket error: {e}\")\n",
    "    except KeyboardInterrupt:\n",
    "        pass\n",
    "    finally:\n",
    "        client_socket.close()\n",
    "\n",
    "if __name__ == \"__main__\":\n",
    "    main()"
   ]
  },
  {
   "cell_type": "code",
   "execution_count": null,
   "id": "2a72a9b4-3b5e-43fc-a590-8ddddfacfbc8",
   "metadata": {},
   "outputs": [],
   "source": []
  }
 ],
 "metadata": {
  "kernelspec": {
   "display_name": "Python 3 (ipykernel)",
   "language": "python",
   "name": "python3"
  },
  "language_info": {
   "codemirror_mode": {
    "name": "ipython",
    "version": 3
   },
   "file_extension": ".py",
   "mimetype": "text/x-python",
   "name": "python",
   "nbconvert_exporter": "python",
   "pygments_lexer": "ipython3",
   "version": "3.11.7"
  }
 },
 "nbformat": 4,
 "nbformat_minor": 5
}
